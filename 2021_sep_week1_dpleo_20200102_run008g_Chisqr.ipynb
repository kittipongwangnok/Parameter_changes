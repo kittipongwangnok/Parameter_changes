{
 "cells": [
  {
   "cell_type": "code",
   "execution_count": 1,
   "metadata": {},
   "outputs": [],
   "source": [
    "#Import module\n",
    "import sys\n",
    "import os\n",
    "import numpy as np\n",
    "import matplotlib.pyplot as plt\n",
    "import pandas as pd\n",
    "#Latex font\n",
    "import matplotlib as mpl\n",
    "from matplotlib import rc\n",
    "plt.rc('text', usetex=True)\n",
    "plt.rc('font', family='serif',size=16)"
   ]
  },
  {
   "cell_type": "code",
   "execution_count": 2,
   "metadata": {},
   "outputs": [
    {
     "name": "stdout",
     "output_type": "stream",
     "text": [
      "2021_Sep_week1_OC_diagram.xlsx\r\n",
      "2021_sep_week1_dpleo_20200102_run008g_All_Chisqr.xlsx\r\n",
      "2021_sep_week1_dpleo_20200102_run008g_Chisqr.ipynb\r\n",
      "2021_sep_week1_dpleo_20200102_run008g_Chisqr.jpg\r\n",
      "2021_sep_week1_dpleo_20200102_run008g_Chisqr.xlsx\r\n",
      "2021_sep_week1_dpleo_20200102_run008g_Chisqr_nlat1f.jpg\r\n",
      "2021_sep_week1_dpleo_20200102_run008g_Chisqr_zooming.jpg\r\n",
      "2021_sep_week1_dpleo_20200102_run008g_Inclination.xlsx\r\n",
      "2021_sep_week1_dpleo_20200102_run008g_Mass_ratio.xlsx\r\n",
      "2021_sep_week1_dpleo_20200102_run008g_RD_Teff.xlsx\r\n",
      "2021_sep_week1_dpleo_20200102_run008g_T0.xlsx\r\n",
      "2021_sep_week1_dpleo_20200102_run008g_WD_Teff.xlsx\r\n",
      "2021_sep_week1_dpleo_20200102_run008g_WD_radius.xlsx\r\n",
      "2021_sep_week1_dpleo_20200102_run008g_nlat1f.ipynb\r\n",
      "2021_sep_week1_dpleo_20200102_run008g_nlat1f.xlsx\r\n",
      "2021_sep_week1_dpleo_20200102_run008g_nlat1f_Mass_ratio.xlsx\r\n",
      "2021_sep_week1_dpleo_20200102_run008g_nlat1f_WD_teff.xlsx\r\n",
      "2021_sep_week1_dpleo_20200102_run008g_stsp11_fwhm.xlsx\r\n",
      "2021_sep_week1_dpleo_20200102_run008g_stsp11_lat.xlsx\r\n",
      "2021_sep_week1_dpleo_20200102_run008g_stsp11_long.xlsx\r\n",
      "2021_sep_week1_dpleo_20200102_run008g_stsp11_tcen.xlsx\r\n",
      "\u001b[1m\u001b[34mComposite_model_20200102_run008g\u001b[m\u001b[m/\r\n",
      "Screen Shot 2564-08-30 at 1.34.46 PM.png\r\n",
      "Screen Shot 2564-08-30 at 1.34.57 PM.png\r\n",
      "dpleo_20200102_run008g_fixed_levmarq.png\r\n",
      "~$2021_Sep_week1_OC_diagram.xlsx\r\n",
      "~$2021_sep_week1_dpleo_20200102_run008g_nlat1f_Mass_ratio.xlsx\r\n"
     ]
    }
   ],
   "source": [
    "ls"
   ]
  },
  {
   "cell_type": "code",
   "execution_count": 3,
   "metadata": {},
   "outputs": [
    {
     "name": "stdout",
     "output_type": "stream",
     "text": [
      "2021_Sep_week1_OC_diagram.xlsx\r\n",
      "2021_sep_week1_dpleo_20200102_run008g_All_Chisqr.xlsx\r\n",
      "2021_sep_week1_dpleo_20200102_run008g_Chisqr.ipynb\r\n",
      "2021_sep_week1_dpleo_20200102_run008g_Chisqr.jpg\r\n",
      "2021_sep_week1_dpleo_20200102_run008g_Chisqr.xlsx\r\n",
      "2021_sep_week1_dpleo_20200102_run008g_Chisqr_nlat1f.jpg\r\n",
      "2021_sep_week1_dpleo_20200102_run008g_Chisqr_zooming.jpg\r\n",
      "2021_sep_week1_dpleo_20200102_run008g_Inclination.xlsx\r\n",
      "2021_sep_week1_dpleo_20200102_run008g_Mass_ratio.xlsx\r\n",
      "2021_sep_week1_dpleo_20200102_run008g_RD_Teff.xlsx\r\n",
      "2021_sep_week1_dpleo_20200102_run008g_T0.xlsx\r\n",
      "2021_sep_week1_dpleo_20200102_run008g_WD_Teff.xlsx\r\n",
      "2021_sep_week1_dpleo_20200102_run008g_WD_radius.xlsx\r\n",
      "2021_sep_week1_dpleo_20200102_run008g_nlat1f.xlsx\r\n",
      "2021_sep_week1_dpleo_20200102_run008g_stsp11_fwhm.xlsx\r\n",
      "2021_sep_week1_dpleo_20200102_run008g_stsp11_lat.xlsx\r\n",
      "2021_sep_week1_dpleo_20200102_run008g_stsp11_long.xlsx\r\n",
      "2021_sep_week1_dpleo_20200102_run008g_stsp11_tcen.xlsx\r\n",
      "\u001b[1m\u001b[34mComposite_model_20200102_run008g\u001b[m\u001b[m/\r\n",
      "Screen Shot 2564-08-30 at 1.34.46 PM.png\r\n",
      "Screen Shot 2564-08-30 at 1.34.57 PM.png\r\n",
      "dpleo_20200102_run008g_fixed_levmarq.png\r\n"
     ]
    }
   ],
   "source": [
    "ls"
   ]
  },
  {
   "cell_type": "code",
   "execution_count": 4,
   "metadata": {},
   "outputs": [
    {
     "data": {
      "text/html": [
       "<div>\n",
       "<style scoped>\n",
       "    .dataframe tbody tr th:only-of-type {\n",
       "        vertical-align: middle;\n",
       "    }\n",
       "\n",
       "    .dataframe tbody tr th {\n",
       "        vertical-align: top;\n",
       "    }\n",
       "\n",
       "    .dataframe thead th {\n",
       "        text-align: right;\n",
       "    }\n",
       "</style>\n",
       "<table border=\"1\" class=\"dataframe\">\n",
       "  <thead>\n",
       "    <tr style=\"text-align: right;\">\n",
       "      <th></th>\n",
       "      <th>q_Step_size</th>\n",
       "      <th>q</th>\n",
       "    </tr>\n",
       "  </thead>\n",
       "  <tbody>\n",
       "    <tr>\n",
       "      <th>0</th>\n",
       "      <td>0.000001</td>\n",
       "      <td>1.380967</td>\n",
       "    </tr>\n",
       "    <tr>\n",
       "      <th>1</th>\n",
       "      <td>0.000010</td>\n",
       "      <td>1.389911</td>\n",
       "    </tr>\n",
       "    <tr>\n",
       "      <th>2</th>\n",
       "      <td>0.000100</td>\n",
       "      <td>1.391774</td>\n",
       "    </tr>\n",
       "    <tr>\n",
       "      <th>3</th>\n",
       "      <td>0.001000</td>\n",
       "      <td>1.424894</td>\n",
       "    </tr>\n",
       "    <tr>\n",
       "      <th>4</th>\n",
       "      <td>0.010000</td>\n",
       "      <td>1.392614</td>\n",
       "    </tr>\n",
       "  </tbody>\n",
       "</table>\n",
       "</div>"
      ],
      "text/plain": [
       "   q_Step_size         q\n",
       "0     0.000001  1.380967\n",
       "1     0.000010  1.389911\n",
       "2     0.000100  1.391774\n",
       "3     0.001000  1.424894\n",
       "4     0.010000  1.392614"
      ]
     },
     "execution_count": 4,
     "metadata": {},
     "output_type": "execute_result"
    }
   ],
   "source": [
    "data_q = pd.read_excel(\"2021_sep_week1_dpleo_20200102_run008g_Mass_ratio.xlsx\", \n",
    "            names=[\"q_Step_size\", \"q\"]) \n",
    "# Preview the first 5 lines of the loaded data \n",
    "data_q.head()"
   ]
  },
  {
   "cell_type": "code",
   "execution_count": 5,
   "metadata": {},
   "outputs": [
    {
     "data": {
      "text/html": [
       "<div>\n",
       "<style scoped>\n",
       "    .dataframe tbody tr th:only-of-type {\n",
       "        vertical-align: middle;\n",
       "    }\n",
       "\n",
       "    .dataframe tbody tr th {\n",
       "        vertical-align: top;\n",
       "    }\n",
       "\n",
       "    .dataframe thead th {\n",
       "        text-align: right;\n",
       "    }\n",
       "</style>\n",
       "<table border=\"1\" class=\"dataframe\">\n",
       "  <thead>\n",
       "    <tr style=\"text-align: right;\">\n",
       "      <th></th>\n",
       "      <th>Inclination_Step_size</th>\n",
       "      <th>Inclination</th>\n",
       "    </tr>\n",
       "  </thead>\n",
       "  <tbody>\n",
       "    <tr>\n",
       "      <th>0</th>\n",
       "      <td>0.000001</td>\n",
       "      <td>1.380967</td>\n",
       "    </tr>\n",
       "    <tr>\n",
       "      <th>1</th>\n",
       "      <td>0.000010</td>\n",
       "      <td>1.329853</td>\n",
       "    </tr>\n",
       "    <tr>\n",
       "      <th>2</th>\n",
       "      <td>0.000100</td>\n",
       "      <td>1.344113</td>\n",
       "    </tr>\n",
       "    <tr>\n",
       "      <th>3</th>\n",
       "      <td>0.001000</td>\n",
       "      <td>1.340087</td>\n",
       "    </tr>\n",
       "    <tr>\n",
       "      <th>4</th>\n",
       "      <td>0.010000</td>\n",
       "      <td>1.356625</td>\n",
       "    </tr>\n",
       "  </tbody>\n",
       "</table>\n",
       "</div>"
      ],
      "text/plain": [
       "   Inclination_Step_size  Inclination\n",
       "0               0.000001     1.380967\n",
       "1               0.000010     1.329853\n",
       "2               0.000100     1.344113\n",
       "3               0.001000     1.340087\n",
       "4               0.010000     1.356625"
      ]
     },
     "execution_count": 5,
     "metadata": {},
     "output_type": "execute_result"
    }
   ],
   "source": [
    "data_Inclination = pd.read_excel(\"2021_sep_week1_dpleo_20200102_run008g_Inclination.xlsx\", \n",
    "            names=[\"Inclination_Step_size\", \"Inclination\"]) \n",
    "# Preview the first 5 lines of the loaded data \n",
    "data_Inclination.head()"
   ]
  },
  {
   "cell_type": "code",
   "execution_count": 6,
   "metadata": {},
   "outputs": [
    {
     "data": {
      "text/html": [
       "<div>\n",
       "<style scoped>\n",
       "    .dataframe tbody tr th:only-of-type {\n",
       "        vertical-align: middle;\n",
       "    }\n",
       "\n",
       "    .dataframe tbody tr th {\n",
       "        vertical-align: top;\n",
       "    }\n",
       "\n",
       "    .dataframe thead th {\n",
       "        text-align: right;\n",
       "    }\n",
       "</style>\n",
       "<table border=\"1\" class=\"dataframe\">\n",
       "  <thead>\n",
       "    <tr style=\"text-align: right;\">\n",
       "      <th></th>\n",
       "      <th>WD_radius_Step_size</th>\n",
       "      <th>WD_radius</th>\n",
       "    </tr>\n",
       "  </thead>\n",
       "  <tbody>\n",
       "    <tr>\n",
       "      <th>0</th>\n",
       "      <td>0.000001</td>\n",
       "      <td>1.380967</td>\n",
       "    </tr>\n",
       "    <tr>\n",
       "      <th>1</th>\n",
       "      <td>0.000010</td>\n",
       "      <td>1.707845</td>\n",
       "    </tr>\n",
       "    <tr>\n",
       "      <th>2</th>\n",
       "      <td>0.000100</td>\n",
       "      <td>1.378811</td>\n",
       "    </tr>\n",
       "    <tr>\n",
       "      <th>3</th>\n",
       "      <td>0.001000</td>\n",
       "      <td>1.372959</td>\n",
       "    </tr>\n",
       "    <tr>\n",
       "      <th>4</th>\n",
       "      <td>0.010000</td>\n",
       "      <td>1.359120</td>\n",
       "    </tr>\n",
       "  </tbody>\n",
       "</table>\n",
       "</div>"
      ],
      "text/plain": [
       "   WD_radius_Step_size  WD_radius\n",
       "0             0.000001   1.380967\n",
       "1             0.000010   1.707845\n",
       "2             0.000100   1.378811\n",
       "3             0.001000   1.372959\n",
       "4             0.010000   1.359120"
      ]
     },
     "execution_count": 6,
     "metadata": {},
     "output_type": "execute_result"
    }
   ],
   "source": [
    "data_WD_radius = pd.read_excel(\"2021_sep_week1_dpleo_20200102_run008g_WD_radius.xlsx\", \n",
    "            names=[\"WD_radius_Step_size\", \"WD_radius\"]) \n",
    "# Preview the first 5 lines of the loaded data \n",
    "data_WD_radius.head()"
   ]
  },
  {
   "cell_type": "code",
   "execution_count": 7,
   "metadata": {},
   "outputs": [
    {
     "data": {
      "text/html": [
       "<div>\n",
       "<style scoped>\n",
       "    .dataframe tbody tr th:only-of-type {\n",
       "        vertical-align: middle;\n",
       "    }\n",
       "\n",
       "    .dataframe tbody tr th {\n",
       "        vertical-align: top;\n",
       "    }\n",
       "\n",
       "    .dataframe thead th {\n",
       "        text-align: right;\n",
       "    }\n",
       "</style>\n",
       "<table border=\"1\" class=\"dataframe\">\n",
       "  <thead>\n",
       "    <tr style=\"text-align: right;\">\n",
       "      <th></th>\n",
       "      <th>WD_Teff_Step_size</th>\n",
       "      <th>WD_Teff</th>\n",
       "    </tr>\n",
       "  </thead>\n",
       "  <tbody>\n",
       "    <tr>\n",
       "      <th>0</th>\n",
       "      <td>0.000001</td>\n",
       "      <td>1.380967</td>\n",
       "    </tr>\n",
       "    <tr>\n",
       "      <th>1</th>\n",
       "      <td>0.000010</td>\n",
       "      <td>1.526447</td>\n",
       "    </tr>\n",
       "    <tr>\n",
       "      <th>2</th>\n",
       "      <td>0.000100</td>\n",
       "      <td>1.388292</td>\n",
       "    </tr>\n",
       "    <tr>\n",
       "      <th>3</th>\n",
       "      <td>0.001000</td>\n",
       "      <td>1.351580</td>\n",
       "    </tr>\n",
       "    <tr>\n",
       "      <th>4</th>\n",
       "      <td>0.010000</td>\n",
       "      <td>1.379495</td>\n",
       "    </tr>\n",
       "  </tbody>\n",
       "</table>\n",
       "</div>"
      ],
      "text/plain": [
       "   WD_Teff_Step_size   WD_Teff\n",
       "0           0.000001  1.380967\n",
       "1           0.000010  1.526447\n",
       "2           0.000100  1.388292\n",
       "3           0.001000  1.351580\n",
       "4           0.010000  1.379495"
      ]
     },
     "execution_count": 7,
     "metadata": {},
     "output_type": "execute_result"
    }
   ],
   "source": [
    "data_WD_Teff = pd.read_excel(\"2021_sep_week1_dpleo_20200102_run008g_WD_Teff.xlsx\", \n",
    "            names=[\"WD_Teff_Step_size\", \"WD_Teff\"]) \n",
    "# Preview the first 5 lines of the loaded data \n",
    "data_WD_Teff.head()"
   ]
  },
  {
   "cell_type": "code",
   "execution_count": 8,
   "metadata": {},
   "outputs": [
    {
     "data": {
      "text/html": [
       "<div>\n",
       "<style scoped>\n",
       "    .dataframe tbody tr th:only-of-type {\n",
       "        vertical-align: middle;\n",
       "    }\n",
       "\n",
       "    .dataframe tbody tr th {\n",
       "        vertical-align: top;\n",
       "    }\n",
       "\n",
       "    .dataframe thead th {\n",
       "        text-align: right;\n",
       "    }\n",
       "</style>\n",
       "<table border=\"1\" class=\"dataframe\">\n",
       "  <thead>\n",
       "    <tr style=\"text-align: right;\">\n",
       "      <th></th>\n",
       "      <th>RD_Teff_Step_size</th>\n",
       "      <th>RD_Teff</th>\n",
       "    </tr>\n",
       "  </thead>\n",
       "  <tbody>\n",
       "    <tr>\n",
       "      <th>0</th>\n",
       "      <td>0.000001</td>\n",
       "      <td>1.380967</td>\n",
       "    </tr>\n",
       "    <tr>\n",
       "      <th>1</th>\n",
       "      <td>0.000010</td>\n",
       "      <td>2.186002</td>\n",
       "    </tr>\n",
       "    <tr>\n",
       "      <th>2</th>\n",
       "      <td>0.000100</td>\n",
       "      <td>1.385776</td>\n",
       "    </tr>\n",
       "    <tr>\n",
       "      <th>3</th>\n",
       "      <td>0.001000</td>\n",
       "      <td>1.407288</td>\n",
       "    </tr>\n",
       "    <tr>\n",
       "      <th>4</th>\n",
       "      <td>0.010000</td>\n",
       "      <td>2.022262</td>\n",
       "    </tr>\n",
       "  </tbody>\n",
       "</table>\n",
       "</div>"
      ],
      "text/plain": [
       "   RD_Teff_Step_size   RD_Teff\n",
       "0           0.000001  1.380967\n",
       "1           0.000010  2.186002\n",
       "2           0.000100  1.385776\n",
       "3           0.001000  1.407288\n",
       "4           0.010000  2.022262"
      ]
     },
     "execution_count": 8,
     "metadata": {},
     "output_type": "execute_result"
    }
   ],
   "source": [
    "data_RD_Teff = pd.read_excel(\"2021_sep_week1_dpleo_20200102_run008g_RD_Teff.xlsx\", \n",
    "            names=[\"RD_Teff_Step_size\", \"RD_Teff\"]) \n",
    "# Preview the first 5 lines of the loaded data \n",
    "data_RD_Teff.head()"
   ]
  },
  {
   "cell_type": "code",
   "execution_count": 9,
   "metadata": {},
   "outputs": [
    {
     "data": {
      "text/html": [
       "<div>\n",
       "<style scoped>\n",
       "    .dataframe tbody tr th:only-of-type {\n",
       "        vertical-align: middle;\n",
       "    }\n",
       "\n",
       "    .dataframe tbody tr th {\n",
       "        vertical-align: top;\n",
       "    }\n",
       "\n",
       "    .dataframe thead th {\n",
       "        text-align: right;\n",
       "    }\n",
       "</style>\n",
       "<table border=\"1\" class=\"dataframe\">\n",
       "  <thead>\n",
       "    <tr style=\"text-align: right;\">\n",
       "      <th></th>\n",
       "      <th>T0_Step_size</th>\n",
       "      <th>T0</th>\n",
       "    </tr>\n",
       "  </thead>\n",
       "  <tbody>\n",
       "    <tr>\n",
       "      <th>0</th>\n",
       "      <td>0.000001</td>\n",
       "      <td>1.380967</td>\n",
       "    </tr>\n",
       "    <tr>\n",
       "      <th>1</th>\n",
       "      <td>0.000010</td>\n",
       "      <td>1.385711</td>\n",
       "    </tr>\n",
       "    <tr>\n",
       "      <th>2</th>\n",
       "      <td>0.000100</td>\n",
       "      <td>1.426175</td>\n",
       "    </tr>\n",
       "    <tr>\n",
       "      <th>3</th>\n",
       "      <td>0.001000</td>\n",
       "      <td>1.674253</td>\n",
       "    </tr>\n",
       "    <tr>\n",
       "      <th>4</th>\n",
       "      <td>0.010000</td>\n",
       "      <td>2.946017</td>\n",
       "    </tr>\n",
       "  </tbody>\n",
       "</table>\n",
       "</div>"
      ],
      "text/plain": [
       "   T0_Step_size        T0\n",
       "0      0.000001  1.380967\n",
       "1      0.000010  1.385711\n",
       "2      0.000100  1.426175\n",
       "3      0.001000  1.674253\n",
       "4      0.010000  2.946017"
      ]
     },
     "execution_count": 9,
     "metadata": {},
     "output_type": "execute_result"
    }
   ],
   "source": [
    "data_T0 = pd.read_excel(\"2021_sep_week1_dpleo_20200102_run008g_T0.xlsx\", \n",
    "            names=[\"T0_Step_size\", \"T0\"]) \n",
    "# Preview the first 5 lines of the loaded data \n",
    "data_T0.head()"
   ]
  },
  {
   "cell_type": "code",
   "execution_count": 10,
   "metadata": {},
   "outputs": [
    {
     "data": {
      "text/html": [
       "<div>\n",
       "<style scoped>\n",
       "    .dataframe tbody tr th:only-of-type {\n",
       "        vertical-align: middle;\n",
       "    }\n",
       "\n",
       "    .dataframe tbody tr th {\n",
       "        vertical-align: top;\n",
       "    }\n",
       "\n",
       "    .dataframe thead th {\n",
       "        text-align: right;\n",
       "    }\n",
       "</style>\n",
       "<table border=\"1\" class=\"dataframe\">\n",
       "  <thead>\n",
       "    <tr style=\"text-align: right;\">\n",
       "      <th></th>\n",
       "      <th>stsp11_long_Step_size</th>\n",
       "      <th>stsp11_long</th>\n",
       "    </tr>\n",
       "  </thead>\n",
       "  <tbody>\n",
       "    <tr>\n",
       "      <th>0</th>\n",
       "      <td>0.001</td>\n",
       "      <td>1.380967</td>\n",
       "    </tr>\n",
       "    <tr>\n",
       "      <th>1</th>\n",
       "      <td>0.010</td>\n",
       "      <td>2.488377</td>\n",
       "    </tr>\n",
       "    <tr>\n",
       "      <th>2</th>\n",
       "      <td>0.100</td>\n",
       "      <td>1.392368</td>\n",
       "    </tr>\n",
       "    <tr>\n",
       "      <th>3</th>\n",
       "      <td>1.000</td>\n",
       "      <td>1.480050</td>\n",
       "    </tr>\n",
       "  </tbody>\n",
       "</table>\n",
       "</div>"
      ],
      "text/plain": [
       "   stsp11_long_Step_size  stsp11_long\n",
       "0                  0.001     1.380967\n",
       "1                  0.010     2.488377\n",
       "2                  0.100     1.392368\n",
       "3                  1.000     1.480050"
      ]
     },
     "execution_count": 10,
     "metadata": {},
     "output_type": "execute_result"
    }
   ],
   "source": [
    "data_stsp11_long = pd.read_excel(\"2021_sep_week1_dpleo_20200102_run008g_stsp11_long.xlsx\", \n",
    "            names=[\"stsp11_long_Step_size\", \"stsp11_long\"]) \n",
    "# Preview the first 5 lines of the loaded data \n",
    "data_stsp11_long.head()"
   ]
  },
  {
   "cell_type": "code",
   "execution_count": 11,
   "metadata": {},
   "outputs": [
    {
     "data": {
      "text/html": [
       "<div>\n",
       "<style scoped>\n",
       "    .dataframe tbody tr th:only-of-type {\n",
       "        vertical-align: middle;\n",
       "    }\n",
       "\n",
       "    .dataframe tbody tr th {\n",
       "        vertical-align: top;\n",
       "    }\n",
       "\n",
       "    .dataframe thead th {\n",
       "        text-align: right;\n",
       "    }\n",
       "</style>\n",
       "<table border=\"1\" class=\"dataframe\">\n",
       "  <thead>\n",
       "    <tr style=\"text-align: right;\">\n",
       "      <th></th>\n",
       "      <th>stsp11_lat_Step_size</th>\n",
       "      <th>stsp11_lat</th>\n",
       "    </tr>\n",
       "  </thead>\n",
       "  <tbody>\n",
       "    <tr>\n",
       "      <th>0</th>\n",
       "      <td>0.001</td>\n",
       "      <td>1.380967</td>\n",
       "    </tr>\n",
       "    <tr>\n",
       "      <th>1</th>\n",
       "      <td>0.010</td>\n",
       "      <td>2.284375</td>\n",
       "    </tr>\n",
       "    <tr>\n",
       "      <th>2</th>\n",
       "      <td>0.100</td>\n",
       "      <td>1.423056</td>\n",
       "    </tr>\n",
       "    <tr>\n",
       "      <th>3</th>\n",
       "      <td>1.000</td>\n",
       "      <td>1.957950</td>\n",
       "    </tr>\n",
       "  </tbody>\n",
       "</table>\n",
       "</div>"
      ],
      "text/plain": [
       "   stsp11_lat_Step_size  stsp11_lat\n",
       "0                 0.001    1.380967\n",
       "1                 0.010    2.284375\n",
       "2                 0.100    1.423056\n",
       "3                 1.000    1.957950"
      ]
     },
     "execution_count": 11,
     "metadata": {},
     "output_type": "execute_result"
    }
   ],
   "source": [
    "data_stsp11_lat = pd.read_excel(\"2021_sep_week1_dpleo_20200102_run008g_stsp11_lat.xlsx\", \n",
    "            names=[\"stsp11_lat_Step_size\", \"stsp11_lat\"]) \n",
    "# Preview the first 5 lines of the loaded data \n",
    "data_stsp11_lat.head()"
   ]
  },
  {
   "cell_type": "code",
   "execution_count": 12,
   "metadata": {},
   "outputs": [
    {
     "data": {
      "text/html": [
       "<div>\n",
       "<style scoped>\n",
       "    .dataframe tbody tr th:only-of-type {\n",
       "        vertical-align: middle;\n",
       "    }\n",
       "\n",
       "    .dataframe tbody tr th {\n",
       "        vertical-align: top;\n",
       "    }\n",
       "\n",
       "    .dataframe thead th {\n",
       "        text-align: right;\n",
       "    }\n",
       "</style>\n",
       "<table border=\"1\" class=\"dataframe\">\n",
       "  <thead>\n",
       "    <tr style=\"text-align: right;\">\n",
       "      <th></th>\n",
       "      <th>stsp11_fwhm_Step_size</th>\n",
       "      <th>stsp11_fwhm</th>\n",
       "    </tr>\n",
       "  </thead>\n",
       "  <tbody>\n",
       "    <tr>\n",
       "      <th>0</th>\n",
       "      <td>0.001</td>\n",
       "      <td>1.380967</td>\n",
       "    </tr>\n",
       "    <tr>\n",
       "      <th>1</th>\n",
       "      <td>0.010</td>\n",
       "      <td>1.356852</td>\n",
       "    </tr>\n",
       "    <tr>\n",
       "      <th>2</th>\n",
       "      <td>0.100</td>\n",
       "      <td>2.201900</td>\n",
       "    </tr>\n",
       "    <tr>\n",
       "      <th>3</th>\n",
       "      <td>1.000</td>\n",
       "      <td>2.184693</td>\n",
       "    </tr>\n",
       "  </tbody>\n",
       "</table>\n",
       "</div>"
      ],
      "text/plain": [
       "   stsp11_fwhm_Step_size  stsp11_fwhm\n",
       "0                  0.001     1.380967\n",
       "1                  0.010     1.356852\n",
       "2                  0.100     2.201900\n",
       "3                  1.000     2.184693"
      ]
     },
     "execution_count": 12,
     "metadata": {},
     "output_type": "execute_result"
    }
   ],
   "source": [
    "data_stsp11_fwhm = pd.read_excel(\"2021_sep_week1_dpleo_20200102_run008g_stsp11_fwhm.xlsx\", \n",
    "            names=[\"stsp11_fwhm_Step_size\", \"stsp11_fwhm\"]) \n",
    "# Preview the first 5 lines of the loaded data \n",
    "data_stsp11_fwhm.head()"
   ]
  },
  {
   "cell_type": "code",
   "execution_count": 13,
   "metadata": {},
   "outputs": [
    {
     "data": {
      "text/html": [
       "<div>\n",
       "<style scoped>\n",
       "    .dataframe tbody tr th:only-of-type {\n",
       "        vertical-align: middle;\n",
       "    }\n",
       "\n",
       "    .dataframe tbody tr th {\n",
       "        vertical-align: top;\n",
       "    }\n",
       "\n",
       "    .dataframe thead th {\n",
       "        text-align: right;\n",
       "    }\n",
       "</style>\n",
       "<table border=\"1\" class=\"dataframe\">\n",
       "  <thead>\n",
       "    <tr style=\"text-align: right;\">\n",
       "      <th></th>\n",
       "      <th>stsp11_tcen_Step_size</th>\n",
       "      <th>stsp11_tcen</th>\n",
       "    </tr>\n",
       "  </thead>\n",
       "  <tbody>\n",
       "    <tr>\n",
       "      <th>0</th>\n",
       "      <td>0.0001</td>\n",
       "      <td>1.380967</td>\n",
       "    </tr>\n",
       "    <tr>\n",
       "      <th>1</th>\n",
       "      <td>0.0010</td>\n",
       "      <td>1.502447</td>\n",
       "    </tr>\n",
       "    <tr>\n",
       "      <th>2</th>\n",
       "      <td>0.0100</td>\n",
       "      <td>2.445210</td>\n",
       "    </tr>\n",
       "    <tr>\n",
       "      <th>3</th>\n",
       "      <td>0.1000</td>\n",
       "      <td>1.371282</td>\n",
       "    </tr>\n",
       "    <tr>\n",
       "      <th>4</th>\n",
       "      <td>1.0000</td>\n",
       "      <td>1.434943</td>\n",
       "    </tr>\n",
       "  </tbody>\n",
       "</table>\n",
       "</div>"
      ],
      "text/plain": [
       "   stsp11_tcen_Step_size  stsp11_tcen\n",
       "0                 0.0001     1.380967\n",
       "1                 0.0010     1.502447\n",
       "2                 0.0100     2.445210\n",
       "3                 0.1000     1.371282\n",
       "4                 1.0000     1.434943"
      ]
     },
     "execution_count": 13,
     "metadata": {},
     "output_type": "execute_result"
    }
   ],
   "source": [
    "data_stsp11_tcen = pd.read_excel(\"2021_sep_week1_dpleo_20200102_run008g_stsp11_tcen.xlsx\", \n",
    "            names=[\"stsp11_tcen_Step_size\", \"stsp11_tcen\"]) \n",
    "# Preview the first 5 lines of the loaded data \n",
    "data_stsp11_tcen.head()"
   ]
  },
  {
   "cell_type": "code",
   "execution_count": 14,
   "metadata": {},
   "outputs": [],
   "source": [
    "q_Step_size = data_q[\"q_Step_size\"]\n",
    "q_Chi_sqr = data_q[\"q\"]\n",
    "\n",
    "Inclination_Step_size = data_Inclination[\"Inclination_Step_size\"]\n",
    "Inclination_Chi_sqr = data_Inclination[\"Inclination\"]\n",
    "\n",
    "WD_radius_Step_size = data_WD_radius[\"WD_radius_Step_size\"]\n",
    "WD_radius_Chi_sqr = data_WD_radius[\"WD_radius\"]\n",
    "\n",
    "WD_Teff_Step_size = data_WD_Teff[\"WD_Teff_Step_size\"]\n",
    "WD_Teff_Chi_sqr = data_WD_Teff[\"WD_Teff\"]\n",
    "\n",
    "RD_Teff_Step_size = data_RD_Teff[\"RD_Teff_Step_size\"]\n",
    "RD_Teff_Chi_sqr = data_RD_Teff[\"RD_Teff\"]\n",
    "\n",
    "T0_Step_size = data_T0[\"T0_Step_size\"]\n",
    "T0_Chi_sqr = data_T0[\"T0\"]\n",
    "\n",
    "stsp11_long_Step_size = data_stsp11_long[\"stsp11_long_Step_size\"]\n",
    "stsp11_long_Chi_sqr = data_stsp11_long[\"stsp11_long\"]\n",
    "\n",
    "stsp11_lat_Step_size = data_stsp11_lat[\"stsp11_lat_Step_size\"]\n",
    "stsp11_lat_Chi_sqr = data_stsp11_lat[\"stsp11_lat\"]\n",
    "\n",
    "stsp11_fwhm_Step_size = data_stsp11_fwhm[\"stsp11_fwhm_Step_size\"]\n",
    "stsp11_fwhm_Chi_sqr = data_stsp11_fwhm[\"stsp11_fwhm\"]\n",
    "\n",
    "stsp11_tcen_Step_size = data_stsp11_tcen[\"stsp11_tcen_Step_size\"]\n",
    "stsp11_tcen_Chi_sqr = data_stsp11_tcen[\"stsp11_tcen\"]"
   ]
  },
  {
   "cell_type": "code",
   "execution_count": 15,
   "metadata": {},
   "outputs": [
    {
     "data": {
      "image/png": "[encoded data removed]",
      "text/plain": [
       "<Figure size 720x360 with 1 Axes>"
      ]
     },
     "metadata": {
      "needs_background": "light"
     },
     "output_type": "display_data"
    },
    {
     "data": {
      "image/png": "[encoded data removed]",
      "text/plain": [
       "<Figure size 720x360 with 1 Axes>"
      ]
     },
     "metadata": {
      "needs_background": "light"
     },
     "output_type": "display_data"
    }
   ],
   "source": [
    "fig=plt.figure(figsize=(10, 5), tight_layout=True)\n",
    "plt.tick_params(direction='in', which='both', bottom='on',top='on', right = 'on')\n",
    "plt.plot(q_Step_size, q_Chi_sqr, 'o', color='red', label = \"Mass ratio\")\n",
    "plt.plot(Inclination_Step_size, Inclination_Chi_sqr, 'o', color='green', label = \"Inclination\")\n",
    "plt.plot(WD_radius_Step_size, WD_radius_Chi_sqr, 'o', color='blue', label = \"WD radius\")\n",
    "plt.plot(WD_Teff_Step_size, WD_Teff_Chi_sqr, 'o', color='pink', label = \"WD Teff\")\n",
    "plt.plot(RD_Teff_Step_size, RD_Teff_Chi_sqr, 'o', color='black', label = \"RD Teff\")\n",
    "plt.plot(T0_Step_size, T0_Chi_sqr, 'o', color='magenta', label = \"T0\")\n",
    "plt.plot(stsp11_long_Step_size, stsp11_long_Chi_sqr, 'o', color='gold', label = \"stsp11\\_long\")\n",
    "plt.plot(stsp11_lat_Step_size, stsp11_lat_Chi_sqr, 'o', color='cyan', label = \"stsp11\\_lat\")\n",
    "plt.plot(stsp11_fwhm_Step_size, stsp11_fwhm_Chi_sqr, 'o', color='orange', label = \"stsp11\\_fwhm\")\n",
    "plt.plot(stsp11_tcen_Step_size, stsp11_tcen_Chi_sqr, 'o', color='brown', label = \"stsp11\\_tcen\")\n",
    "\n",
    "\n",
    "plt.xlabel('Step size')\n",
    "plt.ylabel('$\\chi_{r}^{2}$')\n",
    "\n",
    "plt.grid(linestyle='dotted')\n",
    "plt.legend()\n",
    "plt.savefig(\"2021_sep_week1_dpleo_20200102_run008g_Chisqr.jpg\")\n",
    "plt.show()\n",
    "\n",
    "###################### Zooming ############################\n",
    "fig=plt.figure(figsize=(10, 5), tight_layout=True)\n",
    "plt.tick_params(direction='in', which='both', bottom='on',top='on', right = 'on')\n",
    "plt.plot(q_Step_size, q_Chi_sqr, 'o', color='red', label = \"Mass ratio\")\n",
    "plt.plot(Inclination_Step_size, Inclination_Chi_sqr, 'o', color='green', label = \"Inclination\")\n",
    "plt.plot(WD_radius_Step_size, WD_radius_Chi_sqr, 'o', color='blue', label = \"WD radius\")\n",
    "plt.plot(WD_Teff_Step_size, WD_Teff_Chi_sqr, 'o', color='pink', label = \"WD Teff\")\n",
    "plt.plot(RD_Teff_Step_size, RD_Teff_Chi_sqr, 'o', color='black', label = \"RD Teff\")\n",
    "plt.plot(T0_Step_size, T0_Chi_sqr, 'o', color='magenta', label = \"T0\")\n",
    "plt.plot(stsp11_long_Step_size, stsp11_long_Chi_sqr, 'o', color='gold', label = \"stsp11\\_long\")\n",
    "plt.plot(stsp11_lat_Step_size, stsp11_lat_Chi_sqr, 'o', color='cyan', label = \"stsp11\\_lat\")\n",
    "plt.plot(stsp11_fwhm_Step_size, stsp11_fwhm_Chi_sqr, 'o', color='orange', label = \"stsp11\\_fwhm\")\n",
    "plt.plot(stsp11_tcen_Step_size, stsp11_tcen_Chi_sqr, 'o', color='brown', label = \"stsp11\\_tcen\")\n",
    "\n",
    "plt.xlim(-0.0025,0.02)\n",
    "\n",
    "plt.xlabel('Step size')\n",
    "plt.ylabel('$\\chi_{r}^{2}$')\n",
    "\n",
    "plt.grid(linestyle='dotted')\n",
    "plt.legend()\n",
    "plt.savefig(\"2021_sep_week1_dpleo_20200102_run008g_Chisqr_zooming.jpg\")\n",
    "plt.show()"
   ]
  },
  {
   "cell_type": "code",
   "execution_count": 16,
   "metadata": {},
   "outputs": [
    {
     "data": {
      "text/html": [
       "<div>\n",
       "<style scoped>\n",
       "    .dataframe tbody tr th:only-of-type {\n",
       "        vertical-align: middle;\n",
       "    }\n",
       "\n",
       "    .dataframe tbody tr th {\n",
       "        vertical-align: top;\n",
       "    }\n",
       "\n",
       "    .dataframe thead th {\n",
       "        text-align: right;\n",
       "    }\n",
       "</style>\n",
       "<table border=\"1\" class=\"dataframe\">\n",
       "  <thead>\n",
       "    <tr style=\"text-align: right;\">\n",
       "      <th></th>\n",
       "      <th>nlat1f_Step_size</th>\n",
       "      <th>nlat1f</th>\n",
       "    </tr>\n",
       "  </thead>\n",
       "  <tbody>\n",
       "    <tr>\n",
       "      <th>0</th>\n",
       "      <td>100</td>\n",
       "      <td>1.380967</td>\n",
       "    </tr>\n",
       "    <tr>\n",
       "      <th>1</th>\n",
       "      <td>150</td>\n",
       "      <td>1.363217</td>\n",
       "    </tr>\n",
       "    <tr>\n",
       "      <th>2</th>\n",
       "      <td>200</td>\n",
       "      <td>1.348350</td>\n",
       "    </tr>\n",
       "    <tr>\n",
       "      <th>3</th>\n",
       "      <td>250</td>\n",
       "      <td>1.338015</td>\n",
       "    </tr>\n",
       "    <tr>\n",
       "      <th>4</th>\n",
       "      <td>300</td>\n",
       "      <td>1.345432</td>\n",
       "    </tr>\n",
       "  </tbody>\n",
       "</table>\n",
       "</div>"
      ],
      "text/plain": [
       "   nlat1f_Step_size    nlat1f\n",
       "0               100  1.380967\n",
       "1               150  1.363217\n",
       "2               200  1.348350\n",
       "3               250  1.338015\n",
       "4               300  1.345432"
      ]
     },
     "execution_count": 16,
     "metadata": {},
     "output_type": "execute_result"
    }
   ],
   "source": [
    "data_nlat1f = pd.read_excel(\"2021_sep_week1_dpleo_20200102_run008g_nlat1f.xlsx\", \n",
    "            names=[\"nlat1f_Step_size\", \"nlat1f\"]) \n",
    "# Preview the first 5 lines of the loaded data \n",
    "data_nlat1f.head()"
   ]
  },
  {
   "cell_type": "code",
   "execution_count": 17,
   "metadata": {},
   "outputs": [],
   "source": [
    "nlat1f_Step_size = data_nlat1f[\"nlat1f_Step_size\"]\n",
    "nlat1f_Chi_sqr = data_nlat1f[\"nlat1f\"]"
   ]
  },
  {
   "cell_type": "code",
   "execution_count": 18,
   "metadata": {},
   "outputs": [
    {
     "data": {
      "image/png": "[encoded data removed]",
      "text/plain": [
       "<Figure size 720x360 with 1 Axes>"
      ]
     },
     "metadata": {
      "needs_background": "light"
     },
     "output_type": "display_data"
    }
   ],
   "source": [
    "fig=plt.figure(figsize=(10, 5), tight_layout=True)\n",
    "plt.tick_params(direction='in', which='both', bottom='on',top='on', right = 'on')\n",
    "plt.plot(nlat1f_Step_size, nlat1f_Chi_sqr, 'o', color='navy')\n",
    "\n",
    "\n",
    "\n",
    "plt.xlabel('nlat1f')\n",
    "plt.ylabel('$\\chi_{r}^{2}$')\n",
    "\n",
    "plt.grid(linestyle='dotted')\n",
    "#plt.legend()\n",
    "plt.savefig(\"2021_sep_week1_dpleo_20200102_run008g_Chisqr_nlat1f.jpg\")\n",
    "plt.show()"
   ]
  },
  {
   "cell_type": "code",
   "execution_count": null,
   "metadata": {},
   "outputs": [],
   "source": []
  }
 ],
 "metadata": {
  "kernelspec": {
   "display_name": "Python 3",
   "language": "python",
   "name": "python3"
  },
  "language_info": {
   "codemirror_mode": {
    "name": "ipython",
    "version": 3
   },
   "file_extension": ".py",
   "mimetype": "text/x-python",
   "name": "python",
   "nbconvert_exporter": "python",
   "pygments_lexer": "ipython3",
   "version": "3.7.6"
  }
 },
 "nbformat": 4,
 "nbformat_minor": 4
}
